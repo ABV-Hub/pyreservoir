{
  "nbformat": 4,
  "nbformat_minor": 0,
  "metadata": {
    "colab": {
      "name": "oil_reservoir_drive_notebook.ipynb",
      "provenance": [],
      "collapsed_sections": [
        "-moN0u5lwOPt"
      ],
      "toc_visible": true,
      "authorship_tag": "ABX9TyMyUy6vCt/TQndAsQebv5l9",
      "include_colab_link": true
    },
    "kernelspec": {
      "name": "python3",
      "display_name": "Python 3"
    }
  },
  "cells": [
    {
      "cell_type": "markdown",
      "metadata": {
        "id": "view-in-github",
        "colab_type": "text"
      },
      "source": [
        "<a href=\"https://colab.research.google.com/github/yohanesnuwara/pyreservoir/blob/master/notebooks/oil_reservoir_drive_notebook.ipynb\" target=\"_parent\"><img src=\"https://colab.research.google.com/assets/colab-badge.svg\" alt=\"Open In Colab\"/></a>"
      ]
    },
    {
      "cell_type": "code",
      "metadata": {
        "id": "pimZYJ_NnOEH",
        "colab_type": "code",
        "colab": {}
      },
      "source": [
        "import numpy as np\n",
        "import matplotlib.pyplot as plt\n",
        "import pandas as pd"
      ],
      "execution_count": null,
      "outputs": []
    },
    {
      "cell_type": "code",
      "metadata": {
        "id": "r6DhGxygxNXx",
        "colab_type": "code",
        "colab": {
          "base_uri": "https://localhost:8080/",
          "height": 138
        },
        "outputId": "0c624319-574b-4d66-ea9e-a4a416112065"
      },
      "source": [
        "!git clone https://github.com/yohanesnuwara/pyreservoir"
      ],
      "execution_count": null,
      "outputs": [
        {
          "output_type": "stream",
          "text": [
            "Cloning into 'pyreservoir'...\n",
            "remote: Enumerating objects: 116, done.\u001b[K\n",
            "remote: Counting objects: 100% (116/116), done.\u001b[K\n",
            "remote: Compressing objects: 100% (116/116), done.\u001b[K\n",
            "remote: Total 350 (delta 62), reused 0 (delta 0), pack-reused 234\u001b[K\n",
            "Receiving objects: 100% (350/350), 351.39 KiB | 7.48 MiB/s, done.\n",
            "Resolving deltas: 100% (184/184), done.\n"
          ],
          "name": "stdout"
        }
      ]
    },
    {
      "cell_type": "markdown",
      "metadata": {
        "id": "-moN0u5lwOPt",
        "colab_type": "text"
      },
      "source": [
        "## Volatile Saturated Oil Reservoir (Rv > 0)\n",
        "\n",
        "Prudhoe Bay field, North Slope, Alaska"
      ]
    },
    {
      "cell_type": "code",
      "metadata": {
        "id": "qSiHH3KVKNTv",
        "colab_type": "code",
        "colab": {}
      },
      "source": [
        "def calculate_aquifer(F, Eg, Eo, Efw, Bg, Bo, Nfoi, Gfgi):\n",
        "  Boi, Bgi = Bo[0], Bg[0]\n",
        "  We_schilthuis = (Bw * Wp) + F - (Nfoi * Eo) - (Gfgi * Eg) - (((Nfoi * Boi) + (Gfgi * Bgi)) * Efw)\n",
        "  return We_schilthuis\n",
        "\n",
        "def expansion_factor(p, Bg, Bo, Rs, Rv, cf, cw, swi):\n",
        "  pi, Boi, Bgi, Rsi, Rvi = p[0], Bo[0], Bg[0], Rs[0], Rv[0]\n",
        "\n",
        "  # Formation expansion factor\n",
        "  Efw = ((cf + cw * swi) / (1 - swi)) * (pi - p)\n",
        "  # Oil expansion factor\n",
        "  Bto = ((Bo * (1 - (Rv * Rsi))) + (Bg * (Rsi - Rs))) / (1 - (Rv * Rs))  # in RB/scf\n",
        "  Eo = Bto - Boi\n",
        "  # Gas expansion factor\n",
        "  Btg = ((Bg * (1 - (Rs * Rvi))) + (Bo * (Rvi - Rv))) / (1 - (Rv * Rs))  # in RB/STB\n",
        "  Eg = Btg - Bgi\n",
        "\n",
        "  return Efw, Eo, Eg\n",
        "\n",
        "def oil_reservoir_voidage(Bg, Bo, Np, net_gas_flux, Rs, Rv):\n",
        "  # gas net flux = gas production - gas injection = Gp - Gi\n",
        "  F = (Np * ((Bo - (Rs * Bg)) / (1 - (Rv * Rs)))) + (net_gas_flux * ((Bg - (Rv * Bo)) / (1 - (Rv * Rs))))\n",
        "  return F\n",
        "\n",
        "def oil_drive_indice(F, Efw, Nfoi, Gfgi, Eo, Eg, Bo, Bg, We, Bw, Wp, Wi):\n",
        "  import numpy as np\n",
        "\n",
        "  Boi, Bgi = Bo[0], Bg[0]\n",
        "\n",
        "  # Depletion Drive Indice\n",
        "  Idd = (Nfoi * Eo) / F \n",
        "  # Segregation Drive Indice\n",
        "  Isd = (Gfgi * Eg) / F \n",
        "  # Formation Drive Indice\n",
        "  Ifd = (((Nfoi * Boi) + (Gfgi * Bgi)) * Efw) / F \n",
        "  # Water Drive Indice\n",
        "  deltaW = We + (Bw * (Wi - Wp)) \n",
        "  Iwd = deltaW / F\n",
        "\n",
        "  return Idd, Isd, Ifd, Iwd"
      ],
      "execution_count": null,
      "outputs": []
    },
    {
      "cell_type": "code",
      "metadata": {
        "id": "tcnI4fS9xUBX",
        "colab_type": "code",
        "colab": {
          "base_uri": "https://localhost:8080/",
          "height": 319
        },
        "outputId": "1fb10154-f3c1-4729-f5e4-fcb477bad442"
      },
      "source": [
        "columns = ['p', 'Np', 'net gas flux', 'Wp', 'Wi', 'Bg', 'Bo', 'Rs', 'Rv', 'We']\n",
        "df = pd.read_csv('/content/pyreservoir/data/volatile_sat_oil_proddata.csv', names=columns)\n",
        "df"
      ],
      "execution_count": null,
      "outputs": [
        {
          "output_type": "execute_result",
          "data": {
            "text/html": [
              "<div>\n",
              "<style scoped>\n",
              "    .dataframe tbody tr th:only-of-type {\n",
              "        vertical-align: middle;\n",
              "    }\n",
              "\n",
              "    .dataframe tbody tr th {\n",
              "        vertical-align: top;\n",
              "    }\n",
              "\n",
              "    .dataframe thead th {\n",
              "        text-align: right;\n",
              "    }\n",
              "</style>\n",
              "<table border=\"1\" class=\"dataframe\">\n",
              "  <thead>\n",
              "    <tr style=\"text-align: right;\">\n",
              "      <th></th>\n",
              "      <th>p</th>\n",
              "      <th>Np</th>\n",
              "      <th>net gas flux</th>\n",
              "      <th>Wp</th>\n",
              "      <th>Wi</th>\n",
              "      <th>Bg</th>\n",
              "      <th>Bo</th>\n",
              "      <th>Rs</th>\n",
              "      <th>Rv</th>\n",
              "      <th>We</th>\n",
              "    </tr>\n",
              "  </thead>\n",
              "  <tbody>\n",
              "    <tr>\n",
              "      <th>0</th>\n",
              "      <td>4320</td>\n",
              "      <td>0.000000e+00</td>\n",
              "      <td>0.000000e+00</td>\n",
              "      <td>0.000000e+00</td>\n",
              "      <td>0.000000e+00</td>\n",
              "      <td>0.830</td>\n",
              "      <td>1.3647</td>\n",
              "      <td>710.0</td>\n",
              "      <td>23.9</td>\n",
              "      <td>NaN</td>\n",
              "    </tr>\n",
              "    <tr>\n",
              "      <th>1</th>\n",
              "      <td>4225</td>\n",
              "      <td>8.000000e+08</td>\n",
              "      <td>1.300000e+08</td>\n",
              "      <td>1.800000e+06</td>\n",
              "      <td>0.000000e+00</td>\n",
              "      <td>0.845</td>\n",
              "      <td>1.3578</td>\n",
              "      <td>693.5</td>\n",
              "      <td>23.0</td>\n",
              "      <td>1.092310e+11</td>\n",
              "    </tr>\n",
              "    <tr>\n",
              "      <th>2</th>\n",
              "      <td>4130</td>\n",
              "      <td>1.650000e+09</td>\n",
              "      <td>2.690000e+08</td>\n",
              "      <td>9.200000e+06</td>\n",
              "      <td>0.000000e+00</td>\n",
              "      <td>0.860</td>\n",
              "      <td>1.3509</td>\n",
              "      <td>677.0</td>\n",
              "      <td>22.0</td>\n",
              "      <td>1.087110e+11</td>\n",
              "    </tr>\n",
              "    <tr>\n",
              "      <th>3</th>\n",
              "      <td>4030</td>\n",
              "      <td>2.380000e+09</td>\n",
              "      <td>4.260000e+08</td>\n",
              "      <td>1.900000e+07</td>\n",
              "      <td>0.000000e+00</td>\n",
              "      <td>0.875</td>\n",
              "      <td>1.3440</td>\n",
              "      <td>660.0</td>\n",
              "      <td>21.0</td>\n",
              "      <td>1.005090e+11</td>\n",
              "    </tr>\n",
              "    <tr>\n",
              "      <th>4</th>\n",
              "      <td>3930</td>\n",
              "      <td>3.110000e+09</td>\n",
              "      <td>6.120000e+08</td>\n",
              "      <td>3.210000e+07</td>\n",
              "      <td>1.020000e+07</td>\n",
              "      <td>0.890</td>\n",
              "      <td>1.3370</td>\n",
              "      <td>643.0</td>\n",
              "      <td>20.0</td>\n",
              "      <td>9.602490e+10</td>\n",
              "    </tr>\n",
              "    <tr>\n",
              "      <th>5</th>\n",
              "      <td>3830</td>\n",
              "      <td>4.420000e+09</td>\n",
              "      <td>9.810000e+08</td>\n",
              "      <td>1.670000e+08</td>\n",
              "      <td>6.920000e+08</td>\n",
              "      <td>0.910</td>\n",
              "      <td>1.3301</td>\n",
              "      <td>626.0</td>\n",
              "      <td>19.1</td>\n",
              "      <td>9.246380e+10</td>\n",
              "    </tr>\n",
              "    <tr>\n",
              "      <th>6</th>\n",
              "      <td>3730</td>\n",
              "      <td>6.500000e+09</td>\n",
              "      <td>1.760000e+09</td>\n",
              "      <td>1.060000e+09</td>\n",
              "      <td>2.470000e+09</td>\n",
              "      <td>0.930</td>\n",
              "      <td>1.3232</td>\n",
              "      <td>609.0</td>\n",
              "      <td>18.2</td>\n",
              "      <td>1.013560e+11</td>\n",
              "    </tr>\n",
              "    <tr>\n",
              "      <th>7</th>\n",
              "      <td>3630</td>\n",
              "      <td>7.490000e+09</td>\n",
              "      <td>2.380000e+09</td>\n",
              "      <td>1.820000e+09</td>\n",
              "      <td>3.480000e+09</td>\n",
              "      <td>0.950</td>\n",
              "      <td>1.3164</td>\n",
              "      <td>592.5</td>\n",
              "      <td>17.3</td>\n",
              "      <td>1.015280e+11</td>\n",
              "    </tr>\n",
              "    <tr>\n",
              "      <th>8</th>\n",
              "      <td>3530</td>\n",
              "      <td>8.270000e+09</td>\n",
              "      <td>3.080000e+09</td>\n",
              "      <td>2.710000e+09</td>\n",
              "      <td>4.650000e+09</td>\n",
              "      <td>0.970</td>\n",
              "      <td>1.3095</td>\n",
              "      <td>576.0</td>\n",
              "      <td>16.4</td>\n",
              "      <td>9.959950e+10</td>\n",
              "    </tr>\n",
              "  </tbody>\n",
              "</table>\n",
              "</div>"
            ],
            "text/plain": [
              "      p            Np  net gas flux  ...     Rs    Rv            We\n",
              "0  4320  0.000000e+00  0.000000e+00  ...  710.0  23.9           NaN\n",
              "1  4225  8.000000e+08  1.300000e+08  ...  693.5  23.0  1.092310e+11\n",
              "2  4130  1.650000e+09  2.690000e+08  ...  677.0  22.0  1.087110e+11\n",
              "3  4030  2.380000e+09  4.260000e+08  ...  660.0  21.0  1.005090e+11\n",
              "4  3930  3.110000e+09  6.120000e+08  ...  643.0  20.0  9.602490e+10\n",
              "5  3830  4.420000e+09  9.810000e+08  ...  626.0  19.1  9.246380e+10\n",
              "6  3730  6.500000e+09  1.760000e+09  ...  609.0  18.2  1.013560e+11\n",
              "7  3630  7.490000e+09  2.380000e+09  ...  592.5  17.3  1.015280e+11\n",
              "8  3530  8.270000e+09  3.080000e+09  ...  576.0  16.4  9.959950e+10\n",
              "\n",
              "[9 rows x 10 columns]"
            ]
          },
          "metadata": {
            "tags": []
          },
          "execution_count": 4
        }
      ]
    },
    {
      "cell_type": "code",
      "metadata": {
        "id": "FTiDhrSqyvLw",
        "colab_type": "code",
        "colab": {
          "base_uri": "https://localhost:8080/",
          "height": 265
        },
        "outputId": "515a0f10-489d-49af-e1f2-3b97cda5c2b1"
      },
      "source": [
        "# ignore warning caused by division with zero\n",
        "import warnings\n",
        "warnings.filterwarnings(\"ignore\", category=RuntimeWarning)\n",
        "\n",
        "# known\n",
        "cf = 0 # Formation compressibility, not known\n",
        "cw = 0 # Water compressibility, not known\n",
        "swi = 0 # Initial water saturation, not known\n",
        "\n",
        "Nfoi = 22.460 * 1E+9 # OOIP, convert to STB\n",
        "Gfgi = 37.344 * 1E+12 # OGIP, convert to SCF \n",
        "\n",
        "# define input variables\n",
        "p = df['p'].values # Pressure, psia\n",
        "Bg = df['Bg'].values * (1 / 1E+3) # Gas FVF, convert to RB/SCF\n",
        "Bo = df['Bo'].values # Oil FVF, convert to RB/STB\n",
        "Np = df['Np'].values # Oil production, STB\n",
        "net_gas_flux = df['net gas flux'].values * 1E+3 # Net gas influx, convert to SCF\n",
        "Rs = df['Rs'].values # Solution gas-oil ratio, SCF/STB\n",
        "Rv = df['Rv'].values * (1 / 1E+6) # Volatile oil-gas ratio, STB/MMSCF\n",
        "\n",
        "Wp = df['Wp'].values # Water production, STB\n",
        "Wi = df['Wi'].values # Water injection, STB\n",
        "# We = df['We'].values # Water influx, STB\n",
        "Bw = np.full(len(df), 1)\n",
        "\n",
        "# calculate reservoir voidage\n",
        "F = oil_reservoir_voidage(Bg, Bo, Np, net_gas_flux, Rs, Rv)\n",
        "\n",
        "# calculate expansion factors\n",
        "Efw, Eo, Eg = expansion_factor(p, Bg, Bo, Rs, Rv, cf, cw, swi)\n",
        "\n",
        "# calculate Schilthuis aquifer influx\n",
        "We = calculate_aquifer(F, Eg, Eo, Efw, Bg, Bo, Nfoi, Gfgi)\n",
        "\n",
        "# calculate drive indices\n",
        "Idd, Isd, Ifd, Iwd = oil_drive_indice(F, Efw, Nfoi, Gfgi, Eo, Eg, Bo, Bg, We, Bw, Wp, Wi)\n",
        "\n",
        "Idd, Isd, Iwd = Idd[1:], Isd[1:], Iwd[1:]\n",
        "\n",
        "plt.plot(np.arange(len(Idd)), Idd)\n",
        "plt.plot(np.arange(len(Isd)), Isd)\n",
        "plt.plot(np.arange(len(Iwd)), Iwd)\n",
        "plt.show()"
      ],
      "execution_count": null,
      "outputs": [
        {
          "output_type": "display_data",
          "data": {
            "image/png": "[encoded data removed]",
            "text/plain": [
              "<Figure size 432x288 with 1 Axes>"
            ]
          },
          "metadata": {
            "tags": [],
            "needs_background": "light"
          }
        }
      ]
    },
    {
      "cell_type": "code",
      "metadata": {
        "id": "Q0jlY8fqK6B_",
        "colab_type": "code",
        "colab": {
          "base_uri": "https://localhost:8080/",
          "height": 52
        },
        "outputId": "879c4541-1a0b-4de6-edd6-12379ce1aa1d"
      },
      "source": [
        "Iwd"
      ],
      "execution_count": null,
      "outputs": [
        {
          "output_type": "execute_result",
          "data": {
            "text/plain": [
              "array([-0.00416715,  0.01571219, -0.02180935, -0.03145135,  0.21836746,\n",
              "        0.60932783,  0.6751836 ,  0.73608916])"
            ]
          },
          "metadata": {
            "tags": []
          },
          "execution_count": 7
        }
      ]
    },
    {
      "cell_type": "code",
      "metadata": {
        "id": "eXzcxjAyPPi7",
        "colab_type": "code",
        "colab": {
          "base_uri": "https://localhost:8080/",
          "height": 69
        },
        "outputId": "b8b9994c-1f53-4de6-dff5-d1dc25e0457d"
      },
      "source": [
        "Iwd = np.array([np.nan, -0.00245, -0.00608, -0.00857, -0.00744, 0.12280, 0.21487, 0.20935, 0.21021])\n",
        "deltaW = Iwd * F\n",
        "We = deltaW - Bw * (Wi - Wp)\n",
        "We"
      ],
      "execution_count": null,
      "outputs": [
        {
          "output_type": "execute_result",
          "data": {
            "text/plain": [
              "array([            nan, -6.20025822e+02, -6.45862750e+03,  1.13973104e+04,\n",
              "       -7.01736815e+03,  5.97277638e+05,  5.30941656e+06,  5.65422448e+05,\n",
              "       -2.39413633e+06])"
            ]
          },
          "metadata": {
            "tags": []
          },
          "execution_count": 8
        }
      ]
    },
    {
      "cell_type": "markdown",
      "metadata": {
        "id": "B4mUHiTUkcdG",
        "colab_type": "text"
      },
      "source": [
        "## Conroe Field"
      ]
    },
    {
      "cell_type": "markdown",
      "metadata": {
        "id": "LHZh3KHvhkQK",
        "colab_type": "text"
      },
      "source": [
        "### Part 1. Processing Production and PVT Data"
      ]
    },
    {
      "cell_type": "code",
      "metadata": {
        "id": "c9b87GRCWxX7",
        "colab_type": "code",
        "colab": {
          "base_uri": "https://localhost:8080/",
          "height": 349
        },
        "outputId": "c25b7b72-0fbc-4306-ddc7-1b479d062663"
      },
      "source": [
        "columns = ['date', 'p', 'Np', 'Wp', 'Wi', 'Wp-Wi', 'Gp']\n",
        "df = pd.read_csv('/content/pyreservoir/data/conroe_proddata.csv', names=columns)\n",
        "\n",
        "df.head(10)"
      ],
      "execution_count": null,
      "outputs": [
        {
          "output_type": "execute_result",
          "data": {
            "text/html": [
              "<div>\n",
              "<style scoped>\n",
              "    .dataframe tbody tr th:only-of-type {\n",
              "        vertical-align: middle;\n",
              "    }\n",
              "\n",
              "    .dataframe tbody tr th {\n",
              "        vertical-align: top;\n",
              "    }\n",
              "\n",
              "    .dataframe thead th {\n",
              "        text-align: right;\n",
              "    }\n",
              "</style>\n",
              "<table border=\"1\" class=\"dataframe\">\n",
              "  <thead>\n",
              "    <tr style=\"text-align: right;\">\n",
              "      <th></th>\n",
              "      <th>date</th>\n",
              "      <th>p</th>\n",
              "      <th>Np</th>\n",
              "      <th>Wp</th>\n",
              "      <th>Wi</th>\n",
              "      <th>Wp-Wi</th>\n",
              "      <th>Gp</th>\n",
              "    </tr>\n",
              "  </thead>\n",
              "  <tbody>\n",
              "    <tr>\n",
              "      <th>0</th>\n",
              "      <td>1 January 1932</td>\n",
              "      <td>2180.0</td>\n",
              "      <td>0.0</td>\n",
              "      <td>0.0</td>\n",
              "      <td>0.0</td>\n",
              "      <td>0.0</td>\n",
              "      <td>0.0</td>\n",
              "    </tr>\n",
              "    <tr>\n",
              "      <th>1</th>\n",
              "      <td>1 July 1932</td>\n",
              "      <td>2177.0</td>\n",
              "      <td>1341096.0</td>\n",
              "      <td>0.0</td>\n",
              "      <td>0.0</td>\n",
              "      <td>0.0</td>\n",
              "      <td>3330412.0</td>\n",
              "    </tr>\n",
              "    <tr>\n",
              "      <th>2</th>\n",
              "      <td>1 January 1933</td>\n",
              "      <td>2170.0</td>\n",
              "      <td>2681691.0</td>\n",
              "      <td>0.0</td>\n",
              "      <td>0.0</td>\n",
              "      <td>0.0</td>\n",
              "      <td>6412824.0</td>\n",
              "    </tr>\n",
              "    <tr>\n",
              "      <th>3</th>\n",
              "      <td>1 July 1933</td>\n",
              "      <td>2148.0</td>\n",
              "      <td>9784770.0</td>\n",
              "      <td>0.0</td>\n",
              "      <td>0.0</td>\n",
              "      <td>0.0</td>\n",
              "      <td>14900678.0</td>\n",
              "    </tr>\n",
              "    <tr>\n",
              "      <th>4</th>\n",
              "      <td>1 January 1934</td>\n",
              "      <td>2125.0</td>\n",
              "      <td>23440301.0</td>\n",
              "      <td>0.0</td>\n",
              "      <td>0.0</td>\n",
              "      <td>0.0</td>\n",
              "      <td>24295374.0</td>\n",
              "    </tr>\n",
              "    <tr>\n",
              "      <th>5</th>\n",
              "      <td>1 July 1934</td>\n",
              "      <td>2110.0</td>\n",
              "      <td>32325186.0</td>\n",
              "      <td>0.0</td>\n",
              "      <td>0.0</td>\n",
              "      <td>0.0</td>\n",
              "      <td>30585954.0</td>\n",
              "    </tr>\n",
              "    <tr>\n",
              "      <th>6</th>\n",
              "      <td>1 January 1935</td>\n",
              "      <td>2103.0</td>\n",
              "      <td>39819896.0</td>\n",
              "      <td>71470.0</td>\n",
              "      <td>0.0</td>\n",
              "      <td>71470.0</td>\n",
              "      <td>35940966.0</td>\n",
              "    </tr>\n",
              "    <tr>\n",
              "      <th>7</th>\n",
              "      <td>1 July 1935</td>\n",
              "      <td>2105.0</td>\n",
              "      <td>47414017.0</td>\n",
              "      <td>143243.0</td>\n",
              "      <td>0.0</td>\n",
              "      <td>143243.0</td>\n",
              "      <td>41313677.0</td>\n",
              "    </tr>\n",
              "    <tr>\n",
              "      <th>8</th>\n",
              "      <td>1 January 1936</td>\n",
              "      <td>2096.0</td>\n",
              "      <td>54185666.0</td>\n",
              "      <td>188180.0</td>\n",
              "      <td>0.0</td>\n",
              "      <td>188180.0</td>\n",
              "      <td>46221132.0</td>\n",
              "    </tr>\n",
              "    <tr>\n",
              "      <th>9</th>\n",
              "      <td>1 July 1936</td>\n",
              "      <td>2089.0</td>\n",
              "      <td>61129694.0</td>\n",
              "      <td>346001.0</td>\n",
              "      <td>0.0</td>\n",
              "      <td>346001.0</td>\n",
              "      <td>50923634.0</td>\n",
              "    </tr>\n",
              "  </tbody>\n",
              "</table>\n",
              "</div>"
            ],
            "text/plain": [
              "             date       p          Np        Wp   Wi     Wp-Wi          Gp\n",
              "0  1 January 1932  2180.0         0.0       0.0  0.0       0.0         0.0\n",
              "1     1 July 1932  2177.0   1341096.0       0.0  0.0       0.0   3330412.0\n",
              "2  1 January 1933  2170.0   2681691.0       0.0  0.0       0.0   6412824.0\n",
              "3     1 July 1933  2148.0   9784770.0       0.0  0.0       0.0  14900678.0\n",
              "4  1 January 1934  2125.0  23440301.0       0.0  0.0       0.0  24295374.0\n",
              "5     1 July 1934  2110.0  32325186.0       0.0  0.0       0.0  30585954.0\n",
              "6  1 January 1935  2103.0  39819896.0   71470.0  0.0   71470.0  35940966.0\n",
              "7     1 July 1935  2105.0  47414017.0  143243.0  0.0  143243.0  41313677.0\n",
              "8  1 January 1936  2096.0  54185666.0  188180.0  0.0  188180.0  46221132.0\n",
              "9     1 July 1936  2089.0  61129694.0  346001.0  0.0  346001.0  50923634.0"
            ]
          },
          "metadata": {
            "tags": []
          },
          "execution_count": 3
        }
      ]
    },
    {
      "cell_type": "code",
      "metadata": {
        "id": "1WtsoFbr6vFU",
        "colab_type": "code",
        "colab": {
          "base_uri": "https://localhost:8080/",
          "height": 349
        },
        "outputId": "758eae6b-667f-46a5-a63a-c75510a7914c"
      },
      "source": [
        "columns = ['p', 'Bg', 'Bt']\n",
        "pvt = pd.read_csv('/content/pyreservoir/data/conroe_pvtdata.csv', names=columns)\n",
        "\n",
        "pvt.head(10)"
      ],
      "execution_count": null,
      "outputs": [
        {
          "output_type": "execute_result",
          "data": {
            "text/html": [
              "<div>\n",
              "<style scoped>\n",
              "    .dataframe tbody tr th:only-of-type {\n",
              "        vertical-align: middle;\n",
              "    }\n",
              "\n",
              "    .dataframe tbody tr th {\n",
              "        vertical-align: top;\n",
              "    }\n",
              "\n",
              "    .dataframe thead th {\n",
              "        text-align: right;\n",
              "    }\n",
              "</style>\n",
              "<table border=\"1\" class=\"dataframe\">\n",
              "  <thead>\n",
              "    <tr style=\"text-align: right;\">\n",
              "      <th></th>\n",
              "      <th>p</th>\n",
              "      <th>Bg</th>\n",
              "      <th>Bt</th>\n",
              "    </tr>\n",
              "  </thead>\n",
              "  <tbody>\n",
              "    <tr>\n",
              "      <th>0</th>\n",
              "      <td>2180.0</td>\n",
              "      <td>1.187</td>\n",
              "      <td>1.205</td>\n",
              "    </tr>\n",
              "    <tr>\n",
              "      <th>1</th>\n",
              "      <td>2164.0</td>\n",
              "      <td>1.197</td>\n",
              "      <td>1.208</td>\n",
              "    </tr>\n",
              "    <tr>\n",
              "      <th>2</th>\n",
              "      <td>2115.0</td>\n",
              "      <td>1.226</td>\n",
              "      <td>1.218</td>\n",
              "    </tr>\n",
              "    <tr>\n",
              "      <th>3</th>\n",
              "      <td>2065.0</td>\n",
              "      <td>1.256</td>\n",
              "      <td>1.229</td>\n",
              "    </tr>\n",
              "    <tr>\n",
              "      <th>4</th>\n",
              "      <td>2015.0</td>\n",
              "      <td>1.289</td>\n",
              "      <td>1.240</td>\n",
              "    </tr>\n",
              "    <tr>\n",
              "      <th>5</th>\n",
              "      <td>1965.0</td>\n",
              "      <td>1.322</td>\n",
              "      <td>1.253</td>\n",
              "    </tr>\n",
              "    <tr>\n",
              "      <th>6</th>\n",
              "      <td>1915.0</td>\n",
              "      <td>1.358</td>\n",
              "      <td>1.266</td>\n",
              "    </tr>\n",
              "    <tr>\n",
              "      <th>7</th>\n",
              "      <td>1865.0</td>\n",
              "      <td>1.395</td>\n",
              "      <td>1.280</td>\n",
              "    </tr>\n",
              "    <tr>\n",
              "      <th>8</th>\n",
              "      <td>1815.0</td>\n",
              "      <td>1.435</td>\n",
              "      <td>1.295</td>\n",
              "    </tr>\n",
              "    <tr>\n",
              "      <th>9</th>\n",
              "      <td>1765.0</td>\n",
              "      <td>1.475</td>\n",
              "      <td>1.310</td>\n",
              "    </tr>\n",
              "  </tbody>\n",
              "</table>\n",
              "</div>"
            ],
            "text/plain": [
              "        p     Bg     Bt\n",
              "0  2180.0  1.187  1.205\n",
              "1  2164.0  1.197  1.208\n",
              "2  2115.0  1.226  1.218\n",
              "3  2065.0  1.256  1.229\n",
              "4  2015.0  1.289  1.240\n",
              "5  1965.0  1.322  1.253\n",
              "6  1915.0  1.358  1.266\n",
              "7  1865.0  1.395  1.280\n",
              "8  1815.0  1.435  1.295\n",
              "9  1765.0  1.475  1.310"
            ]
          },
          "metadata": {
            "tags": []
          },
          "execution_count": 4
        }
      ]
    },
    {
      "cell_type": "code",
      "metadata": {
        "id": "ur9yc_LX67ti",
        "colab_type": "code",
        "colab": {
          "base_uri": "https://localhost:8080/",
          "height": 173
        },
        "outputId": "56059376-caf7-4d51-c727-717dabb08209"
      },
      "source": [
        "import sys\n",
        "sys.path.append('/content/pyreservoir/pvt')\n",
        "from pvtlab import linear_interpolate\n",
        "\n",
        "# define variables in PVT data\n",
        "p, Bg, Bt = pvt['p'].values, pvt['Bg'].values, pvt['Bt'].values\n",
        "\n",
        "# define variables in production data\n",
        "p1 = df['p'].values\n",
        "\n",
        "# interpolate Bg and Bt from PVT to production data\n",
        "Bg_interpolated = linear_interpolate(p, p1, Bg)\n",
        "Bt_interpolated = linear_interpolate(p, p1, Bt)\n"
      ],
      "execution_count": null,
      "outputs": [
        {
          "output_type": "execute_result",
          "data": {
            "text/plain": [
              "array([1.187     , 1.188875  , 1.19325   , 1.20646939, 1.22008163,\n",
              "       1.229     , 1.2332    , 1.232     , 1.2374    , 1.2416    ,\n",
              "       1.2434    , 1.2524    , 1.253     , 1.2488    , 1.2464    ,\n",
              "       1.2446    , 1.2422    , 1.2422    , 1.2434    , 1.2452    ,\n",
              "       1.25      , 1.2548    , 1.26062   , 1.26722   , 1.27976   ,\n",
              "       1.2956    , 1.29692   , 1.30682   , 1.31474   , 1.32344   ,\n",
              "       1.33136   , 1.33712   , 1.34288   , 1.35656   , 1.35584   ,\n",
              "       1.35512   , 1.35008   , 1.35152   , 1.3544    , 1.36688   ,\n",
              "       1.3691    ])"
            ]
          },
          "metadata": {
            "tags": []
          },
          "execution_count": 12
        }
      ]
    },
    {
      "cell_type": "code",
      "metadata": {
        "id": "4HvcI67hfjql",
        "colab_type": "code",
        "colab": {
          "base_uri": "https://localhost:8080/",
          "height": 349
        },
        "outputId": "1bef7c86-9560-4857-a4b6-15ec2a3675e6"
      },
      "source": [
        "# add the interpolated Bg and Bt data into production dataframe\n",
        "df['Bg'] = Bg_interpolated\n",
        "df['Bt'] = Bt_interpolated\n",
        "\n",
        "# convert time column to datetime\n",
        "df['date'] =  pd.to_datetime(df['date'], format='%d %B %Y')\n",
        "\n",
        "df.head(10)"
      ],
      "execution_count": null,
      "outputs": [
        {
          "output_type": "execute_result",
          "data": {
            "text/html": [
              "<div>\n",
              "<style scoped>\n",
              "    .dataframe tbody tr th:only-of-type {\n",
              "        vertical-align: middle;\n",
              "    }\n",
              "\n",
              "    .dataframe tbody tr th {\n",
              "        vertical-align: top;\n",
              "    }\n",
              "\n",
              "    .dataframe thead th {\n",
              "        text-align: right;\n",
              "    }\n",
              "</style>\n",
              "<table border=\"1\" class=\"dataframe\">\n",
              "  <thead>\n",
              "    <tr style=\"text-align: right;\">\n",
              "      <th></th>\n",
              "      <th>date</th>\n",
              "      <th>p</th>\n",
              "      <th>Np</th>\n",
              "      <th>Wp</th>\n",
              "      <th>Wi</th>\n",
              "      <th>Wp-Wi</th>\n",
              "      <th>Gp</th>\n",
              "      <th>Bg</th>\n",
              "      <th>Bt</th>\n",
              "    </tr>\n",
              "  </thead>\n",
              "  <tbody>\n",
              "    <tr>\n",
              "      <th>0</th>\n",
              "      <td>1932-01-01</td>\n",
              "      <td>2180.0</td>\n",
              "      <td>0.0</td>\n",
              "      <td>0.0</td>\n",
              "      <td>0.0</td>\n",
              "      <td>0.0</td>\n",
              "      <td>0.0</td>\n",
              "      <td>1.187000</td>\n",
              "      <td>1.205000</td>\n",
              "    </tr>\n",
              "    <tr>\n",
              "      <th>1</th>\n",
              "      <td>1932-07-01</td>\n",
              "      <td>2177.0</td>\n",
              "      <td>1341096.0</td>\n",
              "      <td>0.0</td>\n",
              "      <td>0.0</td>\n",
              "      <td>0.0</td>\n",
              "      <td>3330412.0</td>\n",
              "      <td>1.188875</td>\n",
              "      <td>1.205563</td>\n",
              "    </tr>\n",
              "    <tr>\n",
              "      <th>2</th>\n",
              "      <td>1933-01-01</td>\n",
              "      <td>2170.0</td>\n",
              "      <td>2681691.0</td>\n",
              "      <td>0.0</td>\n",
              "      <td>0.0</td>\n",
              "      <td>0.0</td>\n",
              "      <td>6412824.0</td>\n",
              "      <td>1.193250</td>\n",
              "      <td>1.206875</td>\n",
              "    </tr>\n",
              "    <tr>\n",
              "      <th>3</th>\n",
              "      <td>1933-07-01</td>\n",
              "      <td>2148.0</td>\n",
              "      <td>9784770.0</td>\n",
              "      <td>0.0</td>\n",
              "      <td>0.0</td>\n",
              "      <td>0.0</td>\n",
              "      <td>14900678.0</td>\n",
              "      <td>1.206469</td>\n",
              "      <td>1.211265</td>\n",
              "    </tr>\n",
              "    <tr>\n",
              "      <th>4</th>\n",
              "      <td>1934-01-01</td>\n",
              "      <td>2125.0</td>\n",
              "      <td>23440301.0</td>\n",
              "      <td>0.0</td>\n",
              "      <td>0.0</td>\n",
              "      <td>0.0</td>\n",
              "      <td>24295374.0</td>\n",
              "      <td>1.220082</td>\n",
              "      <td>1.215959</td>\n",
              "    </tr>\n",
              "    <tr>\n",
              "      <th>5</th>\n",
              "      <td>1934-07-01</td>\n",
              "      <td>2110.0</td>\n",
              "      <td>32325186.0</td>\n",
              "      <td>0.0</td>\n",
              "      <td>0.0</td>\n",
              "      <td>0.0</td>\n",
              "      <td>30585954.0</td>\n",
              "      <td>1.229000</td>\n",
              "      <td>1.219100</td>\n",
              "    </tr>\n",
              "    <tr>\n",
              "      <th>6</th>\n",
              "      <td>1935-01-01</td>\n",
              "      <td>2103.0</td>\n",
              "      <td>39819896.0</td>\n",
              "      <td>71470.0</td>\n",
              "      <td>0.0</td>\n",
              "      <td>71470.0</td>\n",
              "      <td>35940966.0</td>\n",
              "      <td>1.233200</td>\n",
              "      <td>1.220640</td>\n",
              "    </tr>\n",
              "    <tr>\n",
              "      <th>7</th>\n",
              "      <td>1935-07-01</td>\n",
              "      <td>2105.0</td>\n",
              "      <td>47414017.0</td>\n",
              "      <td>143243.0</td>\n",
              "      <td>0.0</td>\n",
              "      <td>143243.0</td>\n",
              "      <td>41313677.0</td>\n",
              "      <td>1.232000</td>\n",
              "      <td>1.220200</td>\n",
              "    </tr>\n",
              "    <tr>\n",
              "      <th>8</th>\n",
              "      <td>1936-01-01</td>\n",
              "      <td>2096.0</td>\n",
              "      <td>54185666.0</td>\n",
              "      <td>188180.0</td>\n",
              "      <td>0.0</td>\n",
              "      <td>188180.0</td>\n",
              "      <td>46221132.0</td>\n",
              "      <td>1.237400</td>\n",
              "      <td>1.222180</td>\n",
              "    </tr>\n",
              "    <tr>\n",
              "      <th>9</th>\n",
              "      <td>1936-07-01</td>\n",
              "      <td>2089.0</td>\n",
              "      <td>61129694.0</td>\n",
              "      <td>346001.0</td>\n",
              "      <td>0.0</td>\n",
              "      <td>346001.0</td>\n",
              "      <td>50923634.0</td>\n",
              "      <td>1.241600</td>\n",
              "      <td>1.223720</td>\n",
              "    </tr>\n",
              "  </tbody>\n",
              "</table>\n",
              "</div>"
            ],
            "text/plain": [
              "        date       p          Np  ...          Gp        Bg        Bt\n",
              "0 1932-01-01  2180.0         0.0  ...         0.0  1.187000  1.205000\n",
              "1 1932-07-01  2177.0   1341096.0  ...   3330412.0  1.188875  1.205563\n",
              "2 1933-01-01  2170.0   2681691.0  ...   6412824.0  1.193250  1.206875\n",
              "3 1933-07-01  2148.0   9784770.0  ...  14900678.0  1.206469  1.211265\n",
              "4 1934-01-01  2125.0  23440301.0  ...  24295374.0  1.220082  1.215959\n",
              "5 1934-07-01  2110.0  32325186.0  ...  30585954.0  1.229000  1.219100\n",
              "6 1935-01-01  2103.0  39819896.0  ...  35940966.0  1.233200  1.220640\n",
              "7 1935-07-01  2105.0  47414017.0  ...  41313677.0  1.232000  1.220200\n",
              "8 1936-01-01  2096.0  54185666.0  ...  46221132.0  1.237400  1.222180\n",
              "9 1936-07-01  2089.0  61129694.0  ...  50923634.0  1.241600  1.223720\n",
              "\n",
              "[10 rows x 9 columns]"
            ]
          },
          "metadata": {
            "tags": []
          },
          "execution_count": 13
        }
      ]
    },
    {
      "cell_type": "code",
      "metadata": {
        "id": "2LHi6qO8fJf2",
        "colab_type": "code",
        "colab": {}
      },
      "source": [
        "# define input variables\n",
        "t = df['date'].values\n",
        "p = df['p'].values\n",
        "Np = df['Np'].values\n",
        "Wp = df['Wp'].values\n",
        "Wi = df['Wi'].values\n",
        "Gp = df['Gp'].values * 1E+3 # convert to SCF  \n",
        "Bg = df['Bg'].values * (1 / 1E+3) # convert to RB/SCF\n",
        "Bt = df['Bt'].values\n",
        "Bw = np.full(len(df), 1) # Water FVF is made constant, 1 RB/STB\n"
      ],
      "execution_count": null,
      "outputs": []
    },
    {
      "cell_type": "markdown",
      "metadata": {
        "id": "xC-oISCqfQdi",
        "colab_type": "text"
      },
      "source": [
        "### Part 2. Calculate Aquifer Influx"
      ]
    },
    {
      "cell_type": "code",
      "metadata": {
        "id": "NF-FS8Bbf-1R",
        "colab_type": "code",
        "colab": {
          "base_uri": "https://localhost:8080/",
          "height": 458
        },
        "outputId": "51271b20-5271-4332-9639-034d2caf0f2a"
      },
      "source": [
        "# all known data of Conroe field\n",
        "Nfoi = 800.44 * 1E+6 # OOIP from volumetrics, STB\n",
        "Gfgi = 350 * 1E+9 # Original gas cap volume from volumetrics, SCF\n",
        "Rsi = 600 # SCF/STB\n",
        "Boi = 1.205 # Original oil FVF, RB/STB\n",
        "Bgi = 1.187 * (1 / 1E+3) # Original gas FVF, convert to RB/SCF\n",
        "Vwi = 20 * 1E+6 # Interstitial water volume, bbl\n",
        "hsand = 200 # Gross sand thickness, ft\n",
        "poro = 0.28\n",
        "re = 6600 # Reservoir radius, ft\n",
        "r_aq = 264000 # Aquifer radius, ft\n",
        "k = 265 # Permeability, md\n",
        "cw = 3.4E-6 # Water compressibility, sip\n",
        "cf = 3.4E-6 # Formation compressibility, sip\n",
        "mu_w = 0.38 # Water viscosity, cp\n",
        "\n",
        "# calculate Swi from hsand, poro, and Vwi\n",
        "Vbulk = np.pi * (re**2) * hsand # ft3\n",
        "PV = poro * Vbulk # pore volume, ft3\n",
        "Vwi = Vwi * 5.6145 # convert to ft3\n",
        "swi = Vwi / PV\n",
        "\n",
        "# calculate aquifer influx \n",
        "import sys\n",
        "sys.path.append('/content/pyreservoir/matbal')\n",
        "from aquifer import *\n",
        "\n",
        "## Schilthuis\n",
        "method = schilthuis()\n",
        "We_schilthuis = We_schilthuis = schilthuis.calculate_aquifer(method, p, Bw, Wp, Np, Bt, Nfoi, cf, cw, swi, Bt[0])\n",
        "\n",
        "## VEH\n",
        "method = veh()\n",
        "B_star = veh.calculate_aquifer_constant(method, re, hsand, cf, cw, poro)\n",
        "We_veh = veh.calculate_aquifer(method, t, p, cf, cw, k, poro, mu_w, re, B_star)\n",
        "\n",
        "## Fetkovich\n",
        "method = fetkovich()\n",
        "ct = cf + cw\n",
        "theta = 360\n",
        "Wei = fetkovich.initial_encroachable_water(method, p[0], ct, re, r_aq, hsand, poro, theta)\n",
        "J = fetkovich.productivity_index(method, k, hsand, mu_w, r_aq, re, theta, flow='no flow')\n",
        "We_fetkovich = fetkovich.calculate_aquifer(method, t, p, Wei, J)\n",
        "\n",
        "# plot the aquifer influx\n",
        "plt.figure(figsize=(10,7))\n",
        "plt.plot(t, We_schilthuis, '.-', label='Schilthuis')\n",
        "plt.plot(t, We_veh, '.-', label='van Everdingen-Hurst')\n",
        "plt.plot(t, We_fetkovich, '.-', label='Fetkovich (No Terminal Flow)')\n",
        "plt.title('Aquifer Influx of Conroe Field')\n",
        "plt.xlabel('Year')\n",
        "plt.ylabel('Water influx (res bbl)')\n",
        "plt.xlim(min(t), max(t)); plt.ylim(ymin=0)\n",
        "\n",
        "plt.legend()\n",
        "plt.show()\n"
      ],
      "execution_count": null,
      "outputs": [
        {
          "output_type": "display_data",
          "data": {
            "image/png": "[encoded data removed]",
            "text/plain": [
              "<Figure size 720x504 with 1 Axes>"
            ]
          },
          "metadata": {
            "tags": [],
            "needs_background": "light"
          }
        }
      ]
    },
    {
      "cell_type": "code",
      "metadata": {
        "id": "4mjvou_IvWLY",
        "colab_type": "code",
        "colab": {}
      },
      "source": [
        "# for non-volatile saturated oil reservoir\n",
        "# known data is not Bo, but Bt (total oil FVF)\n",
        "def expansion_factor(p, Bg, Bto, cf, cw, swi):\n",
        "  pi, Boi, Bgi = p[0], Bto[0], Bg[0]\n",
        "\n",
        "  # Formation expansion factor\n",
        "  Efw = ((cf + cw * swi) / (1 - swi)) * (pi - p)\n",
        "  # Oil expansion factor\n",
        "  Eo = Bto - Boi\n",
        "  # Gas expansion factor\n",
        "  Btg = Bg  # in RB/STB\n",
        "  Eg = Btg - Bgi\n",
        "\n",
        "  return Efw, Eo, Eg\n",
        "\n",
        "def oil_reservoir_voidage(Bg, Bto, Np, Gp, Rsi):\n",
        "  F = (Np * (Bto - (Rsi * Bg))) + (Gp * Bg)\n",
        "  return F\n",
        "\n",
        "def oil_drive_indice(F, Efw, Eo, Eg, Nfoi, Gfgi, Boi, Bgi, We, Bw, Wp, Wi):\n",
        "  import numpy as np\n",
        "\n",
        "  # Depletion Drive Index\n",
        "  Idd = (Nfoi * Eo) / F \n",
        "  # Segregation Drive Index\n",
        "  Isd = (Gfgi * Eg) / F \n",
        "  # Formation Drive Index\n",
        "  Ifd = (((Nfoi * Boi) + (Gfgi * Bgi)) * Efw) / F \n",
        "  # Water Drive Index\n",
        "  deltaW = We + (Bw * (Wi - Wp)) \n",
        "  Iwd = deltaW / F\n",
        "  \n",
        "  return Idd, Isd, Ifd, Iwd\n",
        "\n",
        "def oil_drive_indice(F, Efw, Eo, Eg, Nfoi, Gfgi, Boi, Bgi, We, Bw, Wp, Wi):\n",
        "  import numpy as np\n",
        "\n",
        "  # Depletion Drive Index\n",
        "  Idd = (Nfoi * Eo) / F \n",
        "  # Segregation Drive Index\n",
        "  Isd = (Gfgi * Eg) / F \n",
        "  # Formation Drive Index\n",
        "  Ifd = (((Nfoi * Boi) + (Gfgi * Bgi)) * Efw) / F \n",
        "  # Water Drive Index\n",
        "  deltaW = We - (Bw * Wp)\n",
        "  Iwd = deltaW / F\n",
        "  # Water Injection Index\n",
        "  Iwi = Wi * Bw / F\n",
        "\n",
        "  return Idd, Isd, Ifd, Iwd, Iwi"
      ],
      "execution_count": null,
      "outputs": []
    },
    {
      "cell_type": "code",
      "metadata": {
        "id": "M6F9QH53t-y4",
        "colab_type": "code",
        "colab": {
          "base_uri": "https://localhost:8080/",
          "height": 124
        },
        "outputId": "34e4fb80-5f22-4654-b9fe-64d042b2771c"
      },
      "source": [
        "# calculate reservoir voidage\n",
        "F = oil_reservoir_voidage(Bg, Bt, Np, Gp, Rsi)\n",
        "\n",
        "# calculate expansion factors\n",
        "Efw, Eo, Eg = expansion_factor(p, Bg, Bt, cf, cw, swi)\n",
        "\n",
        "# calculate drive indices\n",
        "Idd, Isd, Ifd, Iwd, Iwi = oil_drive_indice(F, Efw, Eo, Eg, Nfoi, Gfgi, Boi, Bgi, We_schilthuis, Bw, Wp, Wi)"
      ],
      "execution_count": null,
      "outputs": [
        {
          "output_type": "stream",
          "text": [
            "/usr/local/lib/python3.6/dist-packages/ipykernel_launcher.py:39: RuntimeWarning: invalid value encountered in true_divide\n",
            "/usr/local/lib/python3.6/dist-packages/ipykernel_launcher.py:41: RuntimeWarning: invalid value encountered in true_divide\n",
            "/usr/local/lib/python3.6/dist-packages/ipykernel_launcher.py:43: RuntimeWarning: invalid value encountered in true_divide\n",
            "/usr/local/lib/python3.6/dist-packages/ipykernel_launcher.py:46: RuntimeWarning: invalid value encountered in true_divide\n",
            "/usr/local/lib/python3.6/dist-packages/ipykernel_launcher.py:48: RuntimeWarning: invalid value encountered in true_divide\n"
          ],
          "name": "stderr"
        }
      ]
    },
    {
      "cell_type": "code",
      "metadata": {
        "id": "3SBeZ8wxoUTM",
        "colab_type": "code",
        "colab": {
          "base_uri": "https://localhost:8080/",
          "height": 432
        },
        "outputId": "dcc90dde-c1fe-42a7-baff-665a7f442eed"
      },
      "source": [
        "def energy_plot(t, Idd, Isd, Ifd, Iwi):\n",
        "  t = (df['date'].values)[1:]\n",
        "  Idd_curve = Idd[1:]\n",
        "  Isd_curve = Idd[1:] + Isd[1:]\n",
        "  Ifd_curve = Idd[1:] + Isd[1:] + Ifd[1:]\n",
        "  Iwi_curve = Idd[1:] + Isd[1:] + Ifd[1:] + Iwi[1:]\n",
        "  \n",
        "  plt.figure(figsize=(12,7))\n",
        "\n",
        "  plt.plot(t, Idd_curve, color='green', linewidth=1)\n",
        "  plt.plot(t, Isd_curve, color='orange', linewidth=1)\n",
        "  plt.plot(t, Iwi_curve, color='grey', linewidth=1)\n",
        "  plt.plot(t, Ifd_curve, color='brown', linewidth=1)\n",
        "\n",
        "  y0 = np.full(len(t), 0)\n",
        "  y1 = np.full(len(t), 1)\n",
        "\n",
        "  wd = plt.fill_between(t, y1, Iwi_curve, color='blue', \n",
        "                        alpha=.8) \n",
        "  wi = plt.fill_between(t, Iwi_curve, Ifd_curve, color='grey', \n",
        "                        alpha=.8) \n",
        "  fd = plt.fill_between(t, Ifd_curve, Isd_curve, color='brown', \n",
        "                        alpha=.8) \n",
        "  sd = plt.fill_between(t, Isd_curve, Idd_curve, color='orange', \n",
        "                        alpha=.8) \n",
        "  dd = plt.fill_between(t, Idd_curve, y0, color='green', \n",
        "                        alpha=.8) \n",
        "  plt.legend(handles=[wd, wi, fd, sd, dd], \n",
        "             labels=['Water Drive', 'Water Injection', 'Formation Drive',\n",
        "                     'Segregation Drive', 'Depletion Drive'])\n",
        "\n",
        "  plt.xlim(min(t), max(t))\n",
        "  plt.ylim(0,1) \n",
        "  plt.xlabel('Year')\n",
        "  plt.ylabel('Index') \n",
        "\n",
        "  plt.show()\n",
        "\n",
        "energy_plot(t, Idd, Isd, Ifd, Iwi)"
      ],
      "execution_count": null,
      "outputs": [
        {
          "output_type": "display_data",
          "data": {
            "image/png": "[encoded data removed]",
            "text/plain": [
              "<Figure size 864x504 with 1 Axes>"
            ]
          },
          "metadata": {
            "tags": [],
            "needs_background": "light"
          }
        }
      ]
    },
    {
      "cell_type": "code",
      "metadata": {
        "id": "OXnf7-A565nn",
        "colab_type": "code",
        "colab": {
          "base_uri": "https://localhost:8080/",
          "height": 543
        },
        "outputId": "0eab39df-1413-4703-90e4-87c1f2030e44"
      },
      "source": [
        "plt.figure(figsize=(15,10))\n",
        "\n",
        "ymin = np.full(len(t[1:]), 0)\n",
        "\n",
        "plt.plot(t[1:], Idd[1:], color='green', label='Depletion Drive')\n",
        "plt.plot(t[1:], Isd[1:], color='orange', label='Segregation Drive')\n",
        "plt.plot(t[1:], Iwd[1:], color='blue', label='Water Drive')\n",
        "plt.plot(t[1:], Iwi[1:], color='grey', label='Water Drive')\n",
        "plt.plot(t[1:], Ifd[1:], color='brown', label='Formation Drive')\n",
        "plt.fill_between(t[1:], Idd[1:], ymin, color='green', \n",
        "                 alpha=1) \n",
        "plt.fill_between(t[1:], Isd[1:], ymin, color='orange', \n",
        "                 alpha=1) \n",
        "# plt.fill_between(t[1:], Iwd[1:], ymin, color='blue', \n",
        "#                  alpha=1) \n",
        "plt.fill_between(t[1:], Iwi[1:], ymin, color='grey', \n",
        "                 alpha=1) \n",
        "plt.xlim(t[1], max(t))\n",
        "plt.ylim(0,1)\n",
        "\n",
        "plt.legend()\n",
        "plt.show()"
      ],
      "execution_count": null,
      "outputs": [
        {
          "output_type": "display_data",
          "data": {
            "image/png": "[encoded data removed]",
            "text/plain": [
              "<Figure size 1080x720 with 1 Axes>"
            ]
          },
          "metadata": {
            "tags": [],
            "needs_background": "light"
          }
        }
      ]
    },
    {
      "cell_type": "markdown",
      "metadata": {
        "id": "urp306WXh3mi",
        "colab_type": "text"
      },
      "source": [
        "## *** "
      ]
    },
    {
      "cell_type": "code",
      "metadata": {
        "id": "ceC6dJO01GV0",
        "colab_type": "code",
        "colab": {
          "base_uri": "https://localhost:8080/",
          "height": 224
        },
        "outputId": "f230ff1d-fb61-4a3c-903f-c461f5b151a5"
      },
      "source": [
        "for j in range(1,len(p)):\n",
        "  print(p[j-1])"
      ],
      "execution_count": null,
      "outputs": [
        {
          "output_type": "stream",
          "text": [
            "2180\n",
            "2164\n",
            "2115\n",
            "2065\n",
            "2015\n",
            "1965\n",
            "1915\n",
            "1865\n",
            "1815\n",
            "1765\n",
            "1715\n",
            "1665\n"
          ],
          "name": "stdout"
        }
      ]
    },
    {
      "cell_type": "code",
      "metadata": {
        "id": "cbNInqSu4Lys",
        "colab_type": "code",
        "colab": {
          "base_uri": "https://localhost:8080/",
          "height": 224
        },
        "outputId": "4a04ed08-ae17-42cc-a4f0-811720b50e42"
      },
      "source": [
        "for j in range(len(p)-1):\n",
        "  print(p[j+1])"
      ],
      "execution_count": null,
      "outputs": [
        {
          "output_type": "stream",
          "text": [
            "2164\n",
            "2115\n",
            "2065\n",
            "2015\n",
            "1965\n",
            "1915\n",
            "1865\n",
            "1815\n",
            "1765\n",
            "1715\n",
            "1665\n",
            "1615\n"
          ],
          "name": "stdout"
        }
      ]
    }
  ]
}